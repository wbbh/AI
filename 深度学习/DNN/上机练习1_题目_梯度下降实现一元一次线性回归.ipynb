{
 "cells": [
  {
   "cell_type": "code",
   "execution_count": 4,
   "metadata": {},
   "outputs": [],
   "source": [
    "import matplotlib.pyplot as plt\n",
    "import tensorflow as tf\n",
    "%matplotlib inline"
   ]
  },
  {
   "cell_type": "code",
   "execution_count": 6,
   "metadata": {},
   "outputs": [
    {
     "data": {
      "text/plain": [
       "<matplotlib.collections.PathCollection at 0x1f2781d4358>"
      ]
     },
     "execution_count": 6,
     "metadata": {},
     "output_type": "execute_result"
    },
    {
     "data": {
      "image/png": "[encoded data removed]",
      "text/plain": [
       "<Figure size 432x288 with 1 Axes>"
      ]
     },
     "metadata": {},
     "output_type": "display_data"
    }
   ],
   "source": [
    "####### >>>>>填写<<<<<   设置你想要的真实斜率和截距， 以及数据点(50-200) >>>>>填写<<<<< ############\n",
    "true_w = 5\n",
    "true_b = 8\n",
    "num_samples = 100\n",
    "\n",
    "############################################################################################\n",
    "\n",
    "\n",
    "# 初始化随机数据\n",
    "X = tf.random.normal(shape=[num_samples, 1]).numpy()\n",
    "noise = tf.random.normal(shape=[num_samples, 1]).numpy()\n",
    "\n",
    "####### >>>>>填写<<<<< 在下述函数尾端，添加噪音项, 注意删除下划线 >>>>>填写<<<<<  ################################\n",
    "y = X * true_w + true_b + noise\n",
    "#######################################\n",
    "\n",
    "plt.scatter(X, y)"
   ]
  },
  {
   "cell_type": "code",
   "execution_count": 8,
   "metadata": {},
   "outputs": [],
   "source": [
    "\n",
    "W = tf.Variable(tf.random.uniform([1]))  # 随机初始化参数\n",
    "b = tf.Variable(tf.random.uniform([1]))\n",
    "\n",
    "# >>>>>填写<<<<<  定义一个随机一元一次线性函数  y = W * x + b   >>>>>填写<<<<<  ##\n",
    "# 思考 这里的x为什么是小写？ #\n",
    "def random_line(x):\n",
    "    y = W*x +b\n",
    " \n",
    "\n",
    "    return y\n"
   ]
  },
  {
   "cell_type": "code",
   "execution_count": 9,
   "metadata": {},
   "outputs": [
    {
     "data": {
      "text/plain": [
       "[<matplotlib.lines.Line2D at 0x1f27820dc88>]"
      ]
     },
     "execution_count": 9,
     "metadata": {},
     "output_type": "execute_result"
    },
    {
     "data": {
      "image/png": "[encoded data removed]",
      "text/plain": [
       "<Figure size 432x288 with 1 Axes>"
      ]
     },
     "metadata": {},
     "output_type": "display_data"
    }
   ],
   "source": [
    "plt.scatter(X, y)\n",
    "plt.plot(X, random_line(X), c='r')"
   ]
  },
  {
   "cell_type": "code",
   "execution_count": 41,
   "metadata": {},
   "outputs": [],
   "source": [
    "def loss_fn( x, y):\n",
    "    y_ = random_line(x)\n",
    "    return tf.reduce_mean(tf.square(y_ - y))"
   ]
  },
  {
   "cell_type": "code",
   "execution_count": 36,
   "metadata": {},
   "outputs": [
    {
     "name": "stdout",
     "output_type": "stream",
     "text": [
      "Epoch [0/50], loss [0.815], W is [3.044], b is,[2.098]\n",
      "Epoch [1/50], loss [0.815], W is [3.044], b is,[2.098]\n",
      "Epoch [2/50], loss [0.815], W is [3.044], b is,[2.098]\n",
      "Epoch [3/50], loss [0.815], W is [3.044], b is,[2.098]\n",
      "Epoch [4/50], loss [0.815], W is [3.044], b is,[2.098]\n",
      "Epoch [5/50], loss [0.815], W is [3.044], b is,[2.098]\n",
      "Epoch [6/50], loss [0.815], W is [3.044], b is,[2.098]\n",
      "Epoch [7/50], loss [0.815], W is [3.044], b is,[2.098]\n",
      "Epoch [8/50], loss [0.815], W is [3.044], b is,[2.098]\n",
      "Epoch [9/50], loss [0.815], W is [3.044], b is,[2.098]\n",
      "Epoch [10/50], loss [0.815], W is [3.044], b is,[2.098]\n",
      "Epoch [11/50], loss [0.815], W is [3.044], b is,[2.098]\n",
      "Epoch [12/50], loss [0.815], W is [3.044], b is,[2.098]\n",
      "Epoch [13/50], loss [0.815], W is [3.044], b is,[2.098]\n",
      "Epoch [14/50], loss [0.815], W is [3.044], b is,[2.098]\n",
      "Epoch [15/50], loss [0.815], W is [3.044], b is,[2.098]\n",
      "Epoch [16/50], loss [0.815], W is [3.044], b is,[2.098]\n",
      "Epoch [17/50], loss [0.815], W is [3.044], b is,[2.098]\n",
      "Epoch [18/50], loss [0.815], W is [3.044], b is,[2.098]\n",
      "Epoch [19/50], loss [0.815], W is [3.044], b is,[2.098]\n",
      "Epoch [20/50], loss [0.815], W is [3.044], b is,[2.098]\n",
      "Epoch [21/50], loss [0.815], W is [3.044], b is,[2.098]\n",
      "Epoch [22/50], loss [0.815], W is [3.044], b is,[2.098]\n",
      "Epoch [23/50], loss [0.815], W is [3.044], b is,[2.098]\n",
      "Epoch [24/50], loss [0.815], W is [3.044], b is,[2.098]\n",
      "Epoch [25/50], loss [0.815], W is [3.044], b is,[2.098]\n",
      "Epoch [26/50], loss [0.815], W is [3.044], b is,[2.098]\n",
      "Epoch [27/50], loss [0.815], W is [3.044], b is,[2.098]\n",
      "Epoch [28/50], loss [0.815], W is [3.044], b is,[2.098]\n",
      "Epoch [29/50], loss [0.815], W is [3.044], b is,[2.098]\n",
      "Epoch [30/50], loss [0.815], W is [3.044], b is,[2.098]\n",
      "Epoch [31/50], loss [0.815], W is [3.044], b is,[2.098]\n",
      "Epoch [32/50], loss [0.815], W is [3.044], b is,[2.098]\n",
      "Epoch [33/50], loss [0.815], W is [3.044], b is,[2.098]\n",
      "Epoch [34/50], loss [0.815], W is [3.044], b is,[2.098]\n",
      "Epoch [35/50], loss [0.815], W is [3.044], b is,[2.098]\n",
      "Epoch [36/50], loss [0.815], W is [3.044], b is,[2.098]\n",
      "Epoch [37/50], loss [0.815], W is [3.044], b is,[2.098]\n",
      "Epoch [38/50], loss [0.815], W is [3.044], b is,[2.098]\n",
      "Epoch [39/50], loss [0.815], W is [3.044], b is,[2.098]\n",
      "Epoch [40/50], loss [0.815], W is [3.044], b is,[2.098]\n",
      "Epoch [41/50], loss [0.815], W is [3.044], b is,[2.098]\n",
      "Epoch [42/50], loss [0.815], W is [3.044], b is,[2.098]\n",
      "Epoch [43/50], loss [0.815], W is [3.044], b is,[2.098]\n",
      "Epoch [44/50], loss [0.815], W is [3.044], b is,[2.098]\n",
      "Epoch [45/50], loss [0.815], W is [3.044], b is,[2.098]\n",
      "Epoch [46/50], loss [0.815], W is [3.044], b is,[2.098]\n",
      "Epoch [47/50], loss [0.815], W is [3.044], b is,[2.098]\n",
      "Epoch [48/50], loss [0.815], W is [3.044], b is,[2.098]\n",
      "Epoch [49/50], loss [0.815], W is [3.044], b is,[2.098]\n"
     ]
    }
   ],
   "source": [
    "### >>>>>填写<<<<< 通过改变epochs 的值，推荐起始10， 和learning rate 学习率 推荐0.1起始 观察梯度下降学习的线性函数w b的值，以及loss函数的变化>>>>>填写<<<<<  ######\n",
    "\n",
    "EPOCHS = \n",
    "LEARNING_RATE = \n",
    "#######################################################################################################################################\n",
    "\n",
    "\n",
    "\n",
    "for epoch in range(EPOCHS):  # 迭代次数\n",
    "    with tf.GradientTape() as tape:  # 追踪梯度\n",
    "        loss = loss_fn(X, y)  # 计算损失\n",
    "    dW, db = tape.gradient(loss, [W, b])  # 计算梯度\n",
    "    W.assign_sub(LEARNING_RATE * dW)  # 更新梯度\n",
    "    b.assign_sub(LEARNING_RATE * db)\n",
    "    # 输出计算过程\n",
    "    print('Epoch [{}/{}], loss [{:.3f}], W is [{:.3f}], b is [{:.3f}]'.format(epoch, EPOCHS, loss,\n",
    "                                                                     float(W.numpy()),\n",
    "                                                                     float(b.numpy())))"
   ]
  },
  {
   "cell_type": "code",
   "execution_count": null,
   "metadata": {},
   "outputs": [],
   "source": []
  }
 ],
 "metadata": {
  "kernelspec": {
   "display_name": "Python 3",
   "language": "python",
   "name": "python3"
  },
  "language_info": {
   "codemirror_mode": {
    "name": "ipython",
    "version": 3
   },
   "file_extension": ".py",
   "mimetype": "text/x-python",
   "name": "python",
   "nbconvert_exporter": "python",
   "pygments_lexer": "ipython3",
   "version": "3.7.3"
  }
 },
 "nbformat": 4,
 "nbformat_minor": 2
}
