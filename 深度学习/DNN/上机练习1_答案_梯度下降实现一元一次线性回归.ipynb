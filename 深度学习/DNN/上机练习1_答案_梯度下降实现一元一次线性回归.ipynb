{
 "cells": [
  {
   "cell_type": "code",
   "execution_count": 9,
   "metadata": {},
   "outputs": [],
   "source": [
    "import matplotlib.pyplot as plt\n",
    "import tensorflow as tf\n",
    "# tf.enable_eager_execution() # 适用于2.0的版本，以2.0启动\n",
    "%matplotlib inline"
   ]
  },
  {
   "cell_type": "code",
   "execution_count": 10,
   "metadata": {},
   "outputs": [
    {
     "data": {
      "text/plain": [
       "<matplotlib.collections.PathCollection at 0x1f19ca3e630>"
      ]
     },
     "execution_count": 10,
     "metadata": {},
     "output_type": "execute_result"
    },
    {
     "data": {
      "image/png": "[encoded data removed]",
      "text/plain": [
       "<Figure size 432x288 with 1 Axes>"
      ]
     },
     "metadata": {},
     "output_type": "display_data"
    }
   ],
   "source": [
    "####### >>>>>填写<<<<<   设置你想要的真实斜率和截距， 以及数据点(50-200) >>>>>填写<<<<< ############\n",
    "true_w = 5\n",
    "true_b = 8\n",
    "num_samples = 200\n",
    "\n",
    "############################################################################################\n",
    "\n",
    "\n",
    "# 初始化随机数据\n",
    "X = tf.random.normal(shape=[num_samples, 1]).numpy()\n",
    "noise = tf.random.normal(shape=[num_samples, 1]).numpy()\n",
    "\n",
    "####### >>>>>填写<<<<< 在下述函数尾端，添加噪音项, 注意删除下划线 >>>>>填写<<<<<  ################################\n",
    "y = X * true_w + true_b + noise\n",
    "#######################################\n",
    "\n",
    "plt.scatter(X, y)"
   ]
  },
  {
   "cell_type": "code",
   "execution_count": 11,
   "metadata": {},
   "outputs": [],
   "source": [
    "\n",
    "W = tf.Variable(tf.random.uniform([1]))  # 随机初始化参数\n",
    "b = tf.Variable(tf.random.uniform([1]))\n",
    "\n",
    "# >>>>>填写<<<<<  定义一个随机一元一次线性函数  y = W * x + b   >>>>>填写<<<<<  ##\n",
    "# 思考 这里的x为什么是小写？ #\n",
    "def random_line(x):\n",
    " \n",
    "    y = W * x + b \n",
    "    return y\n"
   ]
  },
  {
   "cell_type": "code",
   "execution_count": 12,
   "metadata": {},
   "outputs": [
    {
     "data": {
      "text/plain": [
       "[<matplotlib.lines.Line2D at 0x1f19ca74ef0>]"
      ]
     },
     "execution_count": 12,
     "metadata": {},
     "output_type": "execute_result"
    },
    {
     "data": {
      "image/png": "[encoded data removed]",
      "text/plain": [
       "<Figure size 432x288 with 1 Axes>"
      ]
     },
     "metadata": {},
     "output_type": "display_data"
    }
   ],
   "source": [
    "plt.scatter(X, y)\n",
    "plt.plot(X, random_line(X), c='r')"
   ]
  },
  {
   "cell_type": "code",
   "execution_count": 13,
   "metadata": {},
   "outputs": [],
   "source": [
    "def loss_fn( x, y):\n",
    "    y_ = random_line(x)\n",
    "    return tf.reduce_mean(tf.square(y_ - y))"
   ]
  },
  {
   "cell_type": "code",
   "execution_count": 14,
   "metadata": {},
   "outputs": [
    {
     "name": "stdout",
     "output_type": "stream",
     "text": [
      "Epoch [0/50], loss [76.491], W is [0.319], b is [0.233]\nEpoch [1/50], loss [73.791], W is [0.392], b is [0.378]\nEpoch [2/50], loss [71.188], W is [0.464], b is [0.519]\nEpoch [3/50], loss [68.679], W is [0.535], b is [0.659]\nEpoch [4/50], loss [66.260], W is [0.605], b is [0.795]\nEpoch [5/50], loss [63.928], W is [0.673], b is [0.929]\nEpoch [6/50], loss [61.680], W is [0.741], b is [1.061]\nEpoch [7/50], loss [59.513], W is [0.808], b is [1.190]\nEpoch [8/50], loss [57.423], W is [0.874], b is [1.316]\nEpoch [9/50], loss [55.409], W is [0.939], b is [1.440]\nEpoch [10/50], loss [53.467], W is [1.002], b is [1.562]\nEpoch [11/50], loss [51.594], W is [1.065], b is [1.681]\nEpoch [12/50], loss [49.789], W is [1.127], b is [1.798]\nEpoch [13/50], loss [48.048], W is [1.188], b is [1.913]\nEpoch [14/50], loss [46.370], W is [1.249], b is [2.026]\nEpoch [15/50], loss [44.752], W is [1.308], b is [2.137]\nEpoch [16/50], loss [43.192], W is [1.366], b is [2.245]\nEpoch [17/50], loss [41.688], W is [1.424], b is [2.352]\nEpoch [18/50], loss [40.238], W is [1.480], b is [2.456]\nEpoch [19/50], loss [38.840], W is [1.536], b is [2.559]\nEpoch [20/50], loss [37.491], W is [1.591], b is [2.659]\nEpoch [21/50], loss [36.191], W is [1.645], b is [2.758]\nEpoch [22/50], loss [34.938], W is [1.698], b is [2.854]\nEpoch [23/50], loss [33.729], W is [1.751], b is [2.949]\nEpoch [24/50], loss [32.563], W is [1.802], b is [3.043]\nEpoch [25/50], loss [31.440], W is [1.853], b is [3.134]\nEpoch [26/50], loss [30.356], W is [1.903], b is [3.224]\nEpoch [27/50], loss [29.311], W is [1.953], b is [3.311]\nEpoch [28/50], loss [28.303], W is [2.001], b is [3.398]\nEpoch [29/50], loss [27.331], W is [2.049], b is [3.482]\nEpoch [30/50], loss [26.394], W is [2.096], b is [3.565]\nEpoch [31/50], loss [25.491], W is [2.143], b is [3.647]\nEpoch [32/50], loss [24.619], W is [2.189], b is [3.727]\nEpoch [33/50], loss [23.779], W is [2.234], b is [3.805]\nEpoch [34/50], loss [22.968], W is [2.278], b is [3.882]\nEpoch [35/50], loss [22.187], W is [2.322], b is [3.958]\nEpoch [36/50], loss [21.433], W is [2.365], b is [4.032]\nEpoch [37/50], loss [20.706], W is [2.407], b is [4.104]\nEpoch [38/50], loss [20.005], W is [2.449], b is [4.176]\nEpoch [39/50], loss [19.329], W is [2.490], b is [4.246]\nEpoch [40/50], loss [18.677], W is [2.530], b is [4.314]\nEpoch [41/50], loss [18.048], W is [2.570], b is [4.381]\nEpoch [42/50], loss [17.442], W is [2.609], b is [4.448]\nEpoch [43/50], loss [16.857], W is [2.648], b is [4.512]\nEpoch [44/50], loss [16.293], W is [2.686], b is [4.576]\nEpoch [45/50], loss [15.749], W is [2.723], b is [4.638]\nEpoch [46/50], loss [15.224], W is [2.760], b is [4.700]\nEpoch [47/50], loss [14.718], W is [2.797], b is [4.760]\nEpoch [48/50], loss [14.230], W is [2.832], b is [4.819]\nEpoch [49/50], loss [13.759], W is [2.867], b is [4.876]\n"
     ]
    }
   ],
   "source": [
    "### >>>>>填写<<<<< 通过改变epochs 的值，推荐起始10， 和learning rate 学习率 推荐0.1起始 观察梯度下降学习的线性函数w b的值，以及loss函数的变化>>>>>填写<<<<<  ######\n",
    "\n",
    "EPOCHS = 50\n",
    "LEARNING_RATE = 0.01\n",
    "#######################################################################################################################################\n",
    "\n",
    "\n",
    "\n",
    "for epoch in range(EPOCHS):  # 迭代次数\n",
    "    with tf.GradientTape() as tape:  # 追踪梯度\n",
    "        loss = loss_fn(X, y)  # 计算损失\n",
    "    dW, db = tape.gradient(loss, [W, b])  # 计算梯度\n",
    "    W.assign_sub(LEARNING_RATE * dW)  # 更新梯度\n",
    "    b.assign_sub(LEARNING_RATE * db)\n",
    "    # 输出计算过程\n",
    "    print('Epoch [{}/{}], loss [{:.3f}], W is [{:.3f}], b is [{:.3f}]'.format(epoch, EPOCHS, loss,\n",
    "                                                                     float(W.numpy()),\n",
    "                                                                     float(b.numpy())))"
   ]
  },
  {
   "cell_type": "code",
   "execution_count": 9,
   "metadata": {},
   "outputs": [],
   "source": []
  },
  {
   "cell_type": "code",
   "execution_count": 26,
   "metadata": {},
   "outputs": [],
   "source": []
  },
  {
   "cell_type": "code",
   "execution_count": null,
   "metadata": {},
   "outputs": [],
   "source": []
  }
 ],
 "metadata": {
  "kernelspec": {
   "display_name": "Python 3",
   "language": "python",
   "name": "python3"
  },
  "language_info": {
   "codemirror_mode": {
    "name": "ipython",
    "version": 3
   },
   "file_extension": ".py",
   "mimetype": "text/x-python",
   "name": "python",
   "nbconvert_exporter": "python",
   "pygments_lexer": "ipython3",
   "version": "3.7.3"
  }
 },
 "nbformat": 4,
 "nbformat_minor": 2
}
