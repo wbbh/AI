{
  "cells": [
    {
      "cell_type": "code",
      "execution_count": null,
      "metadata": {
        "collapsed": true,
        "pycharm": {}
      },
      "outputs": [],
      "source": "# setupNLTK.py\n#新建一个setupNLTK.py文件，导入nltk包并下载所需要的语料库\nimport nltk\nif __name__ \u003d\u003d \u0027__main__\u0027:\n nltk.download(\u0027movie_reviews\u0027)"
    },
    {
      "cell_type": "code",
      "execution_count": null,
      "outputs": [],
      "source": "# 新建一个main.py文件，导入下列Python包\nimport nltk.classify.util\nfrom nltk.classify import NaiveBayesClassifier\nfrom nltk.corpus import movie_reviews",
      "metadata": {
        "pycharm": {
          "metadata": false,
          "name": "#%%\n"
        }
      }
    },
    {
      "cell_type": "code",
      "execution_count": null,
      "outputs": [],
      "source": "#导入movice_reviews数据\nif __name__ \u003d\u003d \u0027__main__\u0027:\n positive_fileids \u003d movie_reviews.fileids(\u0027pos\u0027)\n negative_fileids \u003d movie_reviews.fileids(\u0027neg\u0027)",
      "metadata": {
        "pycharm": {
          "metadata": false,
          "name": "#%%\n"
        }
      }
    },
    {
      "cell_type": "code",
      "execution_count": null,
      "outputs": [],
      "source": "#定义一个函数，用来提取特征数据\ndef extract_features(word_list):\n return dict([(word,True) for word in word_list])",
      "metadata": {
        "pycharm": {
          "metadata": false,
          "name": "#%%\n"
        }
      }
    },
    {
      "cell_type": "code",
      "execution_count": null,
      "outputs": [],
      "source": "#将语料库中的数据通过刚才定义的函数提取出来\nfeatures_positive \u003d\n[(extract_features(movie_reviews.words(fileids\u003d[f])),\n\u0027Positive\u0027) for f in positive_fileids]\nfeatures_negative \u003d\n[(extract_features(movie_reviews.words(fileids\u003d[f])),\n\u0027Negative\u0027) for f in negative_fileids]",
      "metadata": {
        "pycharm": {
          "metadata": false,
          "name": "#%%\n"
        }
      }
    },
    {
      "cell_type": "code",
      "execution_count": null,
      "outputs": [],
      "source": "#将数据分成训练数据和测试数据\n# Split the data into train and test (80/20)\nthreshold_factor \u003d 0.8\nthreshold_positive \u003d\nint(threshold_factor*len(features_positive))\nthreshold_negative \u003d\nint(threshold_factor*len(features_negative))\nfeatures_train \u003d features_positive[:threshold_positive]\n+ features_negative[:threshold_negative]\nfeatures_test \u003d features_positive[threshold_positive:] +\nfeatures_negative[threshold_negative:] \n",
      "metadata": {
        "pycharm": {
          "metadata": false,
          "name": "#%%\n"
        }
      }
    },
    {
      "cell_type": "code",
      "execution_count": null,
      "outputs": [],
      "source": "#使用素树叶贝斯分类器训练\n# Train a Naive Bayes classifier\nclassifier \u003d NaiveBayesClassifier.train(features_train)\nprint (\"\\nAccuracy of the classifier:\",\nnltk.classify.util.accuracy(classifier, features_test))",
      "metadata": {
        "pycharm": {
          "metadata": false,
          "name": "#%%\n"
        }
      }
    },
    {
      "cell_type": "code",
      "execution_count": null,
      "outputs": [],
      "source": "# 将分类器对象中存有从训练数据中获取的对语最有影响的单词，我们将它们输出\nprint (\"\\nTop 10 most informative words:\")\nfor item in classifier.most_informative_features()[:10]:\n print (item[0])",
      "metadata": {
        "pycharm": {
          "metadata": false,
          "name": "#%%\n"
        }
      }
    },
    {
      "cell_type": "code",
      "execution_count": null,
      "outputs": [],
      "source": "#给一些输入文本\n# Sample input reviews\ninput_reviews \u003d [\n     \"It is an amazing movie\",\n     \"This is a dull movie. I would never recommend it to\nanyone.\",\n     \"A complete and utter destruction of one of the most\niconic superheroes. 0.1 effort and thought put into the\nstoryline. A coming of age awkward teenage movie with a\n\u0027spiderman\u0027 stamp put on it. Bad jokes aimed at\nteenagers (at best). A complete caricature of a villain,\na complete caricature of a Spiderman. Just please stop\nmaking this garbage Put some god damn effort! A total\nwaste of time\",\n \"Just staving off some negative reviews. Fits well\ninto the Marvel movies to date and is an excellent\nfollow up to Avengers: Endgame.\"\n]",
      "metadata": {
        "pycharm": {
          "metadata": false,
          "name": "#%%\n"
        }
      }
    },
    {
      "cell_type": "code",
      "execution_count": null,
      "outputs": [],
      "source": "#用我们之前训练处的分类器预测这些文本的分类\nprint (\"\\nPredictions:\")\nfor review in input_reviews:\n print (\"\\nReview:\", review)\n probdist \u003d\nclassifier.prob_classify(extract_features(review.split()\n))\n pred_sentiment \u003d probdist.max()\n print (\"Predicted sentiment:\", pred_sentiment )\n print (\"Probability:\",\nround(probdist.prob(pred_sentiment), 2))\n",
      "metadata": {
        "pycharm": {
          "metadata": false,
          "name": "#%%\n"
        }
      }
    }
  ],
  "metadata": {
    "language_info": {
      "codemirror_mode": {
        "name": "ipython",
        "version": 2
      },
      "file_extension": ".py",
      "mimetype": "text/x-python",
      "name": "python",
      "nbconvert_exporter": "python",
      "pygments_lexer": "ipython2",
      "version": "2.7.6"
    },
    "kernelspec": {
      "name": "python3",
      "language": "python",
      "display_name": "Python 3"
    }
  },
  "nbformat": 4,
  "nbformat_minor": 0
}